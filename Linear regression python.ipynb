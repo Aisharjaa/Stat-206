import numpy as np 
import matplotlib.pyplot as plt 

def getX():
  number_array = list()
  number = input("Enter the number of elements you want for x:")
  print('Enter numbers in x:')
  for i in range(int(number)):
    n = input("values:")
    number_array.append(int(n))
  return number_array

def getY():
  number_array = list()
  number = input("Enter the number of elements you want for y:")
  print("enter number in y")
  for i in range(int(number)):
    n = input("values:")
    number_array.append(int(n))
  return number_array

def estimate_coef(x, y): 
	# number of observations/points 
	n = np.size(x) 

	# mean of x and y vector 
	m_x, m_y = np.mean(x), np.mean(y) 

	# calculating cross-deviation and deviation about x 
	SS_xy = np.sum(y*x) - n*m_y*m_x 
	SS_xx = np.sum(x*x) - n*m_x*m_x 

	# calculating regression coefficients 
	y = SS_xy / SS_xx 
	x = m_y - y*m_x 

	return(x, y) 

def plot_regression_line(x, y, b): 
	# plotting the actual points as scatter plot 
	plt.scatter(x, y, color = "m", 
			marker = "o", s = 30) 

	# predicted response vector 
	y_pred = b[0] + b[1]*x 

	# plotting the regression line 
	plt.plot(x, y_pred, color = "g") 

	# putting labels 
	plt.xlabel('x') 
	plt.ylabel('y') 

	# function to show plot 
	plt.show() 

def main(): 
	# observations x = [65, 63, 67, 64, 68, 62, 70, 66, 68, 67,69,71]
  # y = [68, 66, 68, 65, 69, 66, 68, 65, 71, 67,68,70]
	x = np.array(getX()) 
	y = np.array(getY()) 

	# estimating coefficients 
	b = estimate_coef(x, y) 
	print("Estimated coefficients:\nx = {} \ny = {}".format(b[0], b[1])) 

	# plotting regression line 
	plot_regression_line(x, y, b) 


main()
